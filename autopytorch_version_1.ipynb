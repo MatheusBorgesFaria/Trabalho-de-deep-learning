{
 "cells": [
  {
   "cell_type": "markdown",
   "metadata": {},
   "source": [
    "## Primeira versão Auto-pytorch - entendimento da biblioteca\n",
    "- https://github.com/automl/Auto-PyTorch\n",
    "- https://www.automl.org/automl-for-x/tabular-data/autopytorch/\n",
    "- https://automl.github.io/Auto-PyTorch/development/\n",
    "- https://automl.github.io/Auto-PyTorch/development/manual.html"
   ]
  },
  {
   "cell_type": "markdown",
   "metadata": {},
   "source": [
    "# Esse notebook foi rodado dentro do .devcontainer para a imagem automlorg/autopytorch:v0.2 que foi pega do docker hub"
   ]
  },
  {
   "cell_type": "markdown",
   "metadata": {},
   "source": [
    "## Comandos necessarios para rodar o AutoPytorch\n",
    "Esses comandos já foram adicionados no dev container"
   ]
  },
  {
   "cell_type": "code",
   "execution_count": null,
   "metadata": {},
   "outputs": [],
   "source": [
    "#  Precisei instalar isso para conseguir rodar a TabularClassificationTask\n",
    "! apt-get update"
   ]
  },
  {
   "cell_type": "code",
   "execution_count": null,
   "metadata": {},
   "outputs": [],
   "source": [
    "!apt-get install libgl1-mesa-glx -y"
   ]
  },
  {
   "cell_type": "code",
   "execution_count": 19,
   "metadata": {},
   "outputs": [],
   "source": [
    "! apt-get install libglib2.0-0 -y\n",
    "# dpkg --configure -a"
   ]
  },
  {
   "cell_type": "code",
   "execution_count": null,
   "metadata": {},
   "outputs": [],
   "source": [
    "# Opcional\n",
    "# apt-get install htop"
   ]
  },
  {
   "cell_type": "markdown",
   "metadata": {},
   "source": [
    "## Tentativa 1"
   ]
  },
  {
   "cell_type": "code",
   "execution_count": 1,
   "metadata": {},
   "outputs": [],
   "source": [
    "%load_ext autoreload\n",
    "%autoreload 2"
   ]
  },
  {
   "cell_type": "code",
   "execution_count": 2,
   "metadata": {},
   "outputs": [],
   "source": [
    "import sys\n",
    "sys.path.append('../../auto-pytorch') "
   ]
  },
  {
   "cell_type": "code",
   "execution_count": 3,
   "metadata": {},
   "outputs": [],
   "source": [
    "from autoPyTorch.api.tabular_classification import TabularClassificationTask"
   ]
  },
  {
   "cell_type": "code",
   "execution_count": 4,
   "metadata": {},
   "outputs": [],
   "source": [
    "# data and metric imports\n",
    "import sklearn.model_selection\n",
    "import sklearn.datasets\n",
    "import sklearn.metrics\n"
   ]
  },
  {
   "cell_type": "code",
   "execution_count": 5,
   "metadata": {},
   "outputs": [],
   "source": [
    "X, y = sklearn.datasets.load_digits(return_X_y=True)\n",
    "X_train, X_test, y_train, y_test = \\\n",
    "        sklearn.model_selection.train_test_split(X, y, random_state=1)"
   ]
  },
  {
   "cell_type": "code",
   "execution_count": 6,
   "metadata": {},
   "outputs": [],
   "source": [
    "# initialise Auto-PyTorch api\n",
    "api = TabularClassificationTask()"
   ]
  },
  {
   "cell_type": "code",
   "execution_count": 7,
   "metadata": {},
   "outputs": [
    {
     "name": "stderr",
     "output_type": "stream",
     "text": [
      "cannot allocate memory for thread-local data: ABORT\n",
      "cannot allocate memory for thread-local data: ABORT\n"
     ]
    },
    {
     "name": "stdout",
     "output_type": "stream",
     "text": [
      "[ERROR] [2025-01-26 15:58:12,878:Client-AutoPyTorch:3e94edeb-dc28-11ef-a2a1-0242ac110002:1] Traditional prediction for lgb failed with run state StatusType.CRASHED.\n",
      "Additional info:\n",
      "error: Result queue is empty\n",
      "exit_status: <class 'pynisher.limit_function_call.AnythingException'>\n",
      "subprocess_stdout: \n",
      "subprocess_stderr: \n",
      "exitcode: 127\n",
      "configuration_origin: traditional\n",
      "[ERROR] [2025-01-26 15:58:42,765:Client-AutoPyTorch:3e94edeb-dc28-11ef-a2a1-0242ac110002:1] Traditional prediction for catboost failed with run state StatusType.CRASHED.\n",
      "Additional info:\n",
      "error: Result queue is empty\n",
      "exit_status: <class 'pynisher.limit_function_call.AnythingException'>\n",
      "subprocess_stdout: \n",
      "subprocess_stderr: \n",
      "exitcode: -11\n",
      "configuration_origin: traditional\n"
     ]
    },
    {
     "name": "stderr",
     "output_type": "stream",
     "text": [
      "OpenBLAS blas_thread_init: pthread_create failed for thread 16 of 32: Resource temporarily unavailable\n",
      "OpenBLAS blas_thread_init: RLIMIT_NPROC -1 current, -1 max\n",
      "OpenBLAS blas_thread_init: pthread_create failed for thread 17 of 32: Resource temporarily unavailable\n",
      "OpenBLAS blas_thread_init: RLIMIT_NPROC -1 current, -1 max\n",
      "OpenBLAS blas_thread_init: pthread_create failed for thread 18 of 32: Resource temporarily unavailable\n",
      "OpenBLAS blas_thread_init: RLIMIT_NPROC -1 current, -1 max\n",
      "OpenBLAS blas_thread_init: pthread_create failed for thread 19 of 32: Resource temporarily unavailable\n",
      "OpenBLAS blas_thread_init: RLIMIT_NPROC -1 current, -1 max\n",
      "OpenBLAS blas_thread_init: pthread_create failed for thread 20 of 32: Resource temporarily unavailable\n",
      "OpenBLAS blas_thread_init: RLIMIT_NPROC -1 current, -1 max\n",
      "OpenBLAS blas_thread_init: pthread_create failed for thread 21 of 32: Resource temporarily unavailable\n",
      "OpenBLAS blas_thread_init: RLIMIT_NPROC -1 current, -1 max\n",
      "OpenBLAS blas_thread_init: pthread_create failed for thread 22 of 32: Resource temporarily unavailable\n",
      "OpenBLAS blas_thread_init: RLIMIT_NPROC -1 current, -1 max\n",
      "OpenBLAS blas_thread_init: pthread_create failed for thread 23 of 32: Resource temporarily unavailable\n",
      "OpenBLAS blas_thread_init: RLIMIT_NPROC -1 current, -1 max\n",
      "OpenBLAS blas_thread_init: pthread_create failed for thread 24 of 32: Resource temporarily unavailable\n",
      "OpenBLAS blas_thread_init: RLIMIT_NPROC -1 current, -1 max\n",
      "OpenBLAS blas_thread_init: pthread_create failed for thread 25 of 32: Resource temporarily unavailable\n",
      "OpenBLAS blas_thread_init: RLIMIT_NPROC -1 current, -1 max\n",
      "OpenBLAS blas_thread_init: pthread_create failed for thread 26 of 32: Resource temporarily unavailable\n",
      "OpenBLAS blas_thread_init: RLIMIT_NPROC -1 current, -1 max\n",
      "OpenBLAS blas_thread_init: pthread_create failed for thread 27 of 32: Resource temporarily unavailable\n",
      "OpenBLAS blas_thread_init: RLIMIT_NPROC -1 current, -1 max\n",
      "OpenBLAS blas_thread_init: pthread_create failed for thread 28 of 32: Resource temporarily unavailable\n",
      "OpenBLAS blas_thread_init: RLIMIT_NPROC -1 current, -1 max\n",
      "OpenBLAS blas_thread_init: pthread_create failed for thread 29 of 32: Resource temporarily unavailable\n",
      "OpenBLAS blas_thread_init: RLIMIT_NPROC -1 current, -1 max\n",
      "OpenBLAS blas_thread_init: pthread_create failed for thread 30 of 32: Resource temporarily unavailable\n",
      "OpenBLAS blas_thread_init: RLIMIT_NPROC -1 current, -1 max\n",
      "OpenBLAS blas_thread_init: pthread_create failed for thread 31 of 32: Resource temporarily unavailable\n",
      "OpenBLAS blas_thread_init: RLIMIT_NPROC -1 current, -1 max\n"
     ]
    },
    {
     "name": "stdout",
     "output_type": "stream",
     "text": [
      "[ERROR] [2025-01-26 15:59:43,200:Client-AutoPyTorch:3e94edeb-dc28-11ef-a2a1-0242ac110002:1] Traditional prediction for knn failed with run state StatusType.TIMEOUT.\n",
      "Additional info:\n",
      "error: Timeout\n",
      "configuration_origin: traditional\n"
     ]
    },
    {
     "name": "stderr",
     "output_type": "stream",
     "text": [
      "/usr/local/lib/python3.8/dist-packages/smac/intensification/parallel_scheduling.py:154: UserWarning: Hyperband is executed with 1 workers only. Consider to use pynisher to use all available workers.\n",
      "  warnings.warn(\n",
      "cannot allocate memory for thread-local data: ABORT\n",
      "cannot allocate memory for thread-local data: ABORT\n",
      "cannot allocate memory for thread-local data: ABORT\n",
      "cannot allocate memory for thread-local data: ABORT\n",
      "cannot allocate memory for thread-local data: ABORT\n",
      "OpenBLAS blas_thread_init: pthread_create failed for thread 16 of 32: Resource temporarily unavailable\n",
      "OpenBLAS blas_thread_init: RLIMIT_NPROC -1 current, -1 max\n",
      "OpenBLAS blas_thread_init: pthread_create failed for thread 17 of 32: Resource temporarily unavailable\n",
      "OpenBLAS blas_thread_init: RLIMIT_NPROC -1 current, -1 max\n",
      "OpenBLAS blas_thread_init: pthread_create failed for thread 18 of 32: Resource temporarily unavailable\n",
      "OpenBLAS blas_thread_init: RLIMIT_NPROC -1 current, -1 max\n",
      "OpenBLAS blas_thread_init: pthread_create failed for thread 19 of 32: Resource temporarily unavailable\n",
      "OpenBLAS blas_thread_init: RLIMIT_NPROC -1 current, -1 max\n",
      "OpenBLAS blas_thread_init: pthread_create failed for thread 20 of 32: Resource temporarily unavailable\n",
      "OpenBLAS blas_thread_init: RLIMIT_NPROC -1 current, -1 max\n",
      "OpenBLAS blas_thread_init: pthread_create failed for thread 21 of 32: Resource temporarily unavailable\n",
      "OpenBLAS blas_thread_init: RLIMIT_NPROC -1 current, -1 max\n",
      "OpenBLAS blas_thread_init: pthread_create failed for thread 22 of 32: Resource temporarily unavailable\n",
      "OpenBLAS blas_thread_init: RLIMIT_NPROC -1 current, -1 max\n",
      "OpenBLAS blas_thread_init: pthread_create failed for thread 23 of 32: Resource temporarily unavailable\n",
      "OpenBLAS blas_thread_init: RLIMIT_NPROC -1 current, -1 max\n",
      "OpenBLAS blas_thread_init: pthread_create failed for thread 24 of 32: Resource temporarily unavailable\n",
      "OpenBLAS blas_thread_init: RLIMIT_NPROC -1 current, -1 max\n",
      "OpenBLAS blas_thread_init: pthread_create failed for thread 25 of 32: Resource temporarily unavailable\n",
      "OpenBLAS blas_thread_init: RLIMIT_NPROC -1 current, -1 max\n",
      "OpenBLAS blas_thread_init: pthread_create failed for thread 26 of 32: Resource temporarily unavailable\n",
      "OpenBLAS blas_thread_init: RLIMIT_NPROC -1 current, -1 max\n",
      "OpenBLAS blas_thread_init: pthread_create failed for thread 27 of 32: Resource temporarily unavailable\n",
      "OpenBLAS blas_thread_init: RLIMIT_NPROC -1 current, -1 max\n",
      "OpenBLAS blas_thread_init: pthread_create failed for thread 28 of 32: Resource temporarily unavailable\n",
      "OpenBLAS blas_thread_init: RLIMIT_NPROC -1 current, -1 max\n",
      "OpenBLAS blas_thread_init: pthread_create failed for thread 29 of 32: Resource temporarily unavailable\n",
      "OpenBLAS blas_thread_init: RLIMIT_NPROC -1 current, -1 max\n",
      "OpenBLAS blas_thread_init: pthread_create failed for thread 30 of 32: Resource temporarily unavailable\n",
      "OpenBLAS blas_thread_init: RLIMIT_NPROC -1 current, -1 max\n",
      "OpenBLAS blas_thread_init: pthread_create failed for thread 31 of 32: Resource temporarily unavailable\n",
      "OpenBLAS blas_thread_init: RLIMIT_NPROC -1 current, -1 max\n",
      "OpenBLAS blas_thread_init: pthread_create failed for thread 16 of 32: Resource temporarily unavailable\n",
      "OpenBLAS blas_thread_init: RLIMIT_NPROC -1 current, -1 max\n",
      "OpenBLAS blas_thread_init: pthread_create failed for thread 17 of 32: Resource temporarily unavailable\n",
      "OpenBLAS blas_thread_init: RLIMIT_NPROC -1 current, -1 max\n",
      "OpenBLAS blas_thread_init: pthread_create failed for thread 18 of 32: Resource temporarily unavailable\n",
      "OpenBLAS blas_thread_init: RLIMIT_NPROC -1 current, -1 max\n",
      "OpenBLAS blas_thread_init: pthread_create failed for thread 19 of 32: Resource temporarily unavailable\n",
      "OpenBLAS blas_thread_init: RLIMIT_NPROC -1 current, -1 max\n",
      "OpenBLAS blas_thread_init: pthread_create failed for thread 20 of 32: Resource temporarily unavailable\n",
      "OpenBLAS blas_thread_init: RLIMIT_NPROC -1 current, -1 max\n",
      "OpenBLAS blas_thread_init: pthread_create failed for thread 21 of 32: Resource temporarily unavailable\n",
      "OpenBLAS blas_thread_init: RLIMIT_NPROC -1 current, -1 max\n",
      "OpenBLAS blas_thread_init: pthread_create failed for thread 22 of 32: Resource temporarily unavailable\n",
      "OpenBLAS blas_thread_init: RLIMIT_NPROC -1 current, -1 max\n",
      "OpenBLAS blas_thread_init: pthread_create failed for thread 23 of 32: Resource temporarily unavailable\n",
      "OpenBLAS blas_thread_init: RLIMIT_NPROC -1 current, -1 max\n",
      "OpenBLAS blas_thread_init: pthread_create failed for thread 24 of 32: Resource temporarily unavailable\n",
      "OpenBLAS blas_thread_init: RLIMIT_NPROC -1 current, -1 max\n",
      "OpenBLAS blas_thread_init: pthread_create failed for thread 25 of 32: Resource temporarily unavailable\n",
      "OpenBLAS blas_thread_init: RLIMIT_NPROC -1 current, -1 max\n",
      "OpenBLAS blas_thread_init: pthread_create failed for thread 26 of 32: Resource temporarily unavailable\n",
      "OpenBLAS blas_thread_init: RLIMIT_NPROC -1 current, -1 max\n",
      "OpenBLAS blas_thread_init: pthread_create failed for thread 27 of 32: Resource temporarily unavailable\n",
      "OpenBLAS blas_thread_init: RLIMIT_NPROC -1 current, -1 max\n",
      "OpenBLAS blas_thread_init: pthread_create failed for thread 28 of 32: Resource temporarily unavailable\n",
      "OpenBLAS blas_thread_init: RLIMIT_NPROC -1 current, -1 max\n",
      "OpenBLAS blas_thread_init: pthread_create failed for thread 29 of 32: Resource temporarily unavailable\n",
      "OpenBLAS blas_thread_init: RLIMIT_NPROC -1 current, -1 max\n",
      "OpenBLAS blas_thread_init: pthread_create failed for thread 30 of 32: Resource temporarily unavailable\n",
      "OpenBLAS blas_thread_init: RLIMIT_NPROC -1 current, -1 max\n",
      "OpenBLAS blas_thread_init: pthread_create failed for thread 31 of 32: Resource temporarily unavailable\n",
      "OpenBLAS blas_thread_init: RLIMIT_NPROC -1 current, -1 max\n",
      "cannot allocate memory for thread-local data: ABORT\n",
      "cannot allocate memory for thread-local data: ABORT\n",
      "OpenBLAS blas_thread_init: pthread_create failed for thread 16 of 32: Resource temporarily unavailable\n",
      "OpenBLAS blas_thread_init: RLIMIT_NPROC -1 current, -1 max\n",
      "OpenBLAS blas_thread_init: pthread_create failed for thread 17 of 32: Resource temporarily unavailable\n",
      "OpenBLAS blas_thread_init: RLIMIT_NPROC -1 current, -1 max\n",
      "OpenBLAS blas_thread_init: pthread_create failed for thread 18 of 32: Resource temporarily unavailable\n",
      "OpenBLAS blas_thread_init: RLIMIT_NPROC -1 current, -1 max\n",
      "OpenBLAS blas_thread_init: pthread_create failed for thread 19 of 32: Resource temporarily unavailable\n",
      "OpenBLAS blas_thread_init: RLIMIT_NPROC -1 current, -1 max\n",
      "OpenBLAS blas_thread_init: pthread_create failed for thread 20 of 32: Resource temporarily unavailable\n",
      "OpenBLAS blas_thread_init: RLIMIT_NPROC -1 current, -1 max\n",
      "OpenBLAS blas_thread_init: pthread_create failed for thread 21 of 32: Resource temporarily unavailable\n",
      "OpenBLAS blas_thread_init: RLIMIT_NPROC -1 current, -1 max\n",
      "OpenBLAS blas_thread_init: pthread_create failed for thread 22 of 32: Resource temporarily unavailable\n",
      "OpenBLAS blas_thread_init: RLIMIT_NPROC -1 current, -1 max\n",
      "OpenBLAS blas_thread_init: pthread_create failed for thread 23 of 32: Resource temporarily unavailable\n",
      "OpenBLAS blas_thread_init: RLIMIT_NPROC -1 current, -1 max\n",
      "OpenBLAS blas_thread_init: pthread_create failed for thread 24 of 32: Resource temporarily unavailable\n",
      "OpenBLAS blas_thread_init: RLIMIT_NPROC -1 current, -1 max\n",
      "OpenBLAS blas_thread_init: pthread_create failed for thread 25 of 32: Resource temporarily unavailable\n",
      "OpenBLAS blas_thread_init: RLIMIT_NPROC -1 current, -1 max\n",
      "OpenBLAS blas_thread_init: pthread_create failed for thread 26 of 32: Resource temporarily unavailable\n",
      "OpenBLAS blas_thread_init: RLIMIT_NPROC -1 current, -1 max\n",
      "OpenBLAS blas_thread_init: pthread_create failed for thread 27 of 32: Resource temporarily unavailable\n",
      "OpenBLAS blas_thread_init: RLIMIT_NPROC -1 current, -1 max\n",
      "OpenBLAS blas_thread_init: pthread_create failed for thread 28 of 32: Resource temporarily unavailable\n",
      "OpenBLAS blas_thread_init: RLIMIT_NPROC -1 current, -1 max\n",
      "OpenBLAS blas_thread_init: pthread_create failed for thread 29 of 32: Resource temporarily unavailable\n",
      "OpenBLAS blas_thread_init: RLIMIT_NPROC -1 current, -1 max\n",
      "OpenBLAS blas_thread_init: pthread_create failed for thread 30 of 32: Resource temporarily unavailable\n",
      "OpenBLAS blas_thread_init: RLIMIT_NPROC -1 current, -1 max\n",
      "OpenBLAS blas_thread_init: pthread_create failed for thread 31 of 32: Resource temporarily unavailable\n",
      "OpenBLAS blas_thread_init: RLIMIT_NPROC -1 current, -1 max\n",
      "OpenBLAS blas_thread_init: pthread_create failed for thread 16 of 32: Resource temporarily unavailable\n",
      "OpenBLAS blas_thread_init: RLIMIT_NPROC -1 current, -1 max\n",
      "OpenBLAS blas_thread_init: pthread_create failed for thread 17 of 32: Resource temporarily unavailable\n",
      "OpenBLAS blas_thread_init: RLIMIT_NPROC -1 current, -1 max\n",
      "OpenBLAS blas_thread_init: pthread_create failed for thread 18 of 32: Resource temporarily unavailable\n",
      "OpenBLAS blas_thread_init: RLIMIT_NPROC -1 current, -1 max\n",
      "OpenBLAS blas_thread_init: pthread_create failed for thread 19 of 32: Resource temporarily unavailable\n",
      "OpenBLAS blas_thread_init: RLIMIT_NPROC -1 current, -1 max\n",
      "OpenBLAS blas_thread_init: pthread_create failed for thread 20 of 32: Resource temporarily unavailable\n",
      "OpenBLAS blas_thread_init: RLIMIT_NPROC -1 current, -1 max\n",
      "OpenBLAS blas_thread_init: pthread_create failed for thread 21 of 32: Resource temporarily unavailable\n",
      "OpenBLAS blas_thread_init: RLIMIT_NPROC -1 current, -1 max\n",
      "OpenBLAS blas_thread_init: pthread_create failed for thread 22 of 32: Resource temporarily unavailable\n",
      "OpenBLAS blas_thread_init: RLIMIT_NPROC -1 current, -1 max\n",
      "OpenBLAS blas_thread_init: pthread_create failed for thread 23 of 32: Resource temporarily unavailable\n",
      "OpenBLAS blas_thread_init: RLIMIT_NPROC -1 current, -1 max\n",
      "OpenBLAS blas_thread_init: pthread_create failed for thread 24 of 32: Resource temporarily unavailable\n",
      "OpenBLAS blas_thread_init: RLIMIT_NPROC -1 current, -1 max\n",
      "OpenBLAS blas_thread_init: pthread_create failed for thread 25 of 32: Resource temporarily unavailable\n",
      "OpenBLAS blas_thread_init: RLIMIT_NPROC -1 current, -1 max\n",
      "OpenBLAS blas_thread_init: pthread_create failed for thread 26 of 32: Resource temporarily unavailable\n",
      "OpenBLAS blas_thread_init: RLIMIT_NPROC -1 current, -1 max\n",
      "OpenBLAS blas_thread_init: pthread_create failed for thread 27 of 32: Resource temporarily unavailable\n",
      "OpenBLAS blas_thread_init: RLIMIT_NPROC -1 current, -1 max\n",
      "OpenBLAS blas_thread_init: pthread_create failed for thread 28 of 32: Resource temporarily unavailable\n",
      "OpenBLAS blas_thread_init: RLIMIT_NPROC -1 current, -1 max\n",
      "OpenBLAS blas_thread_init: pthread_create failed for thread 29 of 32: Resource temporarily unavailable\n",
      "OpenBLAS blas_thread_init: RLIMIT_NPROC -1 current, -1 max\n",
      "OpenBLAS blas_thread_init: pthread_create failed for thread 30 of 32: Resource temporarily unavailable\n",
      "OpenBLAS blas_thread_init: RLIMIT_NPROC -1 current, -1 max\n",
      "OpenBLAS blas_thread_init: pthread_create failed for thread 31 of 32: Resource temporarily unavailable\n",
      "OpenBLAS blas_thread_init: RLIMIT_NPROC -1 current, -1 max\n",
      "OpenBLAS blas_thread_init: pthread_create failed for thread 16 of 32: Resource temporarily unavailable\n",
      "OpenBLAS blas_thread_init: RLIMIT_NPROC -1 current, -1 max\n",
      "OpenBLAS blas_thread_init: pthread_create failed for thread 17 of 32: Resource temporarily unavailable\n",
      "OpenBLAS blas_thread_init: RLIMIT_NPROC -1 current, -1 max\n",
      "OpenBLAS blas_thread_init: pthread_create failed for thread 18 of 32: Resource temporarily unavailable\n",
      "OpenBLAS blas_thread_init: RLIMIT_NPROC -1 current, -1 max\n",
      "OpenBLAS blas_thread_init: pthread_create failed for thread 19 of 32: Resource temporarily unavailable\n",
      "OpenBLAS blas_thread_init: RLIMIT_NPROC -1 current, -1 max\n",
      "OpenBLAS blas_thread_init: pthread_create failed for thread 20 of 32: Resource temporarily unavailable\n",
      "OpenBLAS blas_thread_init: RLIMIT_NPROC -1 current, -1 max\n",
      "OpenBLAS blas_thread_init: pthread_create failed for thread 21 of 32: Resource temporarily unavailable\n",
      "OpenBLAS blas_thread_init: RLIMIT_NPROC -1 current, -1 max\n",
      "OpenBLAS blas_thread_init: pthread_create failed for thread 22 of 32: Resource temporarily unavailable\n",
      "OpenBLAS blas_thread_init: RLIMIT_NPROC -1 current, -1 max\n",
      "OpenBLAS blas_thread_init: pthread_create failed for thread 23 of 32: Resource temporarily unavailable\n",
      "OpenBLAS blas_thread_init: RLIMIT_NPROC -1 current, -1 max\n",
      "OpenBLAS blas_thread_init: pthread_create failed for thread 24 of 32: Resource temporarily unavailable\n",
      "OpenBLAS blas_thread_init: RLIMIT_NPROC -1 current, -1 max\n",
      "OpenBLAS blas_thread_init: pthread_create failed for thread 25 of 32: Resource temporarily unavailable\n",
      "OpenBLAS blas_thread_init: RLIMIT_NPROC -1 current, -1 max\n",
      "OpenBLAS blas_thread_init: pthread_create failed for thread 26 of 32: Resource temporarily unavailable\n",
      "OpenBLAS blas_thread_init: RLIMIT_NPROC -1 current, -1 max\n",
      "OpenBLAS blas_thread_init: pthread_create failed for thread 27 of 32: Resource temporarily unavailable\n",
      "OpenBLAS blas_thread_init: RLIMIT_NPROC -1 current, -1 max\n",
      "OpenBLAS blas_thread_init: pthread_create failed for thread 28 of 32: Resource temporarily unavailable\n",
      "OpenBLAS blas_thread_init: RLIMIT_NPROC -1 current, -1 max\n",
      "OpenBLAS blas_thread_init: pthread_create failed for thread 29 of 32: Resource temporarily unavailable\n",
      "OpenBLAS blas_thread_init: RLIMIT_NPROC -1 current, -1 max\n",
      "OpenBLAS blas_thread_init: pthread_create failed for thread 30 of 32: Resource temporarily unavailable\n",
      "OpenBLAS blas_thread_init: RLIMIT_NPROC -1 current, -1 max\n",
      "OpenBLAS blas_thread_init: pthread_create failed for thread 31 of 32: Resource temporarily unavailable\n",
      "OpenBLAS blas_thread_init: RLIMIT_NPROC -1 current, -1 max\n",
      "OpenBLAS blas_thread_init: pthread_create failed for thread 16 of 32: Resource temporarily unavailable\n",
      "OpenBLAS blas_thread_init: RLIMIT_NPROC -1 current, -1 max\n",
      "OpenBLAS blas_thread_init: pthread_create failed for thread 17 of 32: Resource temporarily unavailable\n",
      "OpenBLAS blas_thread_init: RLIMIT_NPROC -1 current, -1 max\n",
      "OpenBLAS blas_thread_init: pthread_create failed for thread 18 of 32: Resource temporarily unavailable\n",
      "OpenBLAS blas_thread_init: RLIMIT_NPROC -1 current, -1 max\n",
      "OpenBLAS blas_thread_init: pthread_create failed for thread 19 of 32: Resource temporarily unavailable\n",
      "OpenBLAS blas_thread_init: RLIMIT_NPROC -1 current, -1 max\n",
      "OpenBLAS blas_thread_init: pthread_create failed for thread 20 of 32: Resource temporarily unavailable\n",
      "OpenBLAS blas_thread_init: RLIMIT_NPROC -1 current, -1 max\n",
      "OpenBLAS blas_thread_init: pthread_create failed for thread 21 of 32: Resource temporarily unavailable\n",
      "OpenBLAS blas_thread_init: RLIMIT_NPROC -1 current, -1 max\n",
      "OpenBLAS blas_thread_init: pthread_create failed for thread 22 of 32: Resource temporarily unavailable\n",
      "OpenBLAS blas_thread_init: RLIMIT_NPROC -1 current, -1 max\n",
      "OpenBLAS blas_thread_init: pthread_create failed for thread 23 of 32: Resource temporarily unavailable\n",
      "OpenBLAS blas_thread_init: RLIMIT_NPROC -1 current, -1 max\n",
      "OpenBLAS blas_thread_init: pthread_create failed for thread 24 of 32: Resource temporarily unavailable\n",
      "OpenBLAS blas_thread_init: RLIMIT_NPROC -1 current, -1 max\n",
      "OpenBLAS blas_thread_init: pthread_create failed for thread 25 of 32: Resource temporarily unavailable\n",
      "OpenBLAS blas_thread_init: RLIMIT_NPROC -1 current, -1 max\n",
      "OpenBLAS blas_thread_init: pthread_create failed for thread 26 of 32: Resource temporarily unavailable\n",
      "OpenBLAS blas_thread_init: RLIMIT_NPROC -1 current, -1 max\n",
      "OpenBLAS blas_thread_init: pthread_create failed for thread 27 of 32: Resource temporarily unavailable\n",
      "OpenBLAS blas_thread_init: RLIMIT_NPROC -1 current, -1 max\n",
      "OpenBLAS blas_thread_init: pthread_create failed for thread 28 of 32: Resource temporarily unavailable\n",
      "OpenBLAS blas_thread_init: RLIMIT_NPROC -1 current, -1 max\n",
      "OpenBLAS blas_thread_init: pthread_create failed for thread 29 of 32: Resource temporarily unavailable\n",
      "OpenBLAS blas_thread_init: RLIMIT_NPROC -1 current, -1 max\n",
      "OpenBLAS blas_thread_init: pthread_create failed for thread 30 of 32: Resource temporarily unavailable\n",
      "OpenBLAS blas_thread_init: RLIMIT_NPROC -1 current, -1 max\n",
      "OpenBLAS blas_thread_init: pthread_create failed for thread 31 of 32: Resource temporarily unavailable\n",
      "OpenBLAS blas_thread_init: RLIMIT_NPROC -1 current, -1 max\n",
      "OpenBLAS blas_thread_init: pthread_create failed for thread 16 of 32: Resource temporarily unavailable\n",
      "OpenBLAS blas_thread_init: RLIMIT_NPROC -1 current, -1 max\n",
      "OpenBLAS blas_thread_init: pthread_create failed for thread 17 of 32: Resource temporarily unavailable\n",
      "OpenBLAS blas_thread_init: RLIMIT_NPROC -1 current, -1 max\n",
      "OpenBLAS blas_thread_init: pthread_create failed for thread 18 of 32: Resource temporarily unavailable\n",
      "OpenBLAS blas_thread_init: RLIMIT_NPROC -1 current, -1 max\n",
      "OpenBLAS blas_thread_init: pthread_create failed for thread 19 of 32: Resource temporarily unavailable\n",
      "OpenBLAS blas_thread_init: RLIMIT_NPROC -1 current, -1 max\n",
      "OpenBLAS blas_thread_init: pthread_create failed for thread 20 of 32: Resource temporarily unavailable\n",
      "OpenBLAS blas_thread_init: RLIMIT_NPROC -1 current, -1 max\n",
      "OpenBLAS blas_thread_init: pthread_create failed for thread 21 of 32: Resource temporarily unavailable\n",
      "OpenBLAS blas_thread_init: RLIMIT_NPROC -1 current, -1 max\n",
      "OpenBLAS blas_thread_init: pthread_create failed for thread 22 of 32: Resource temporarily unavailable\n",
      "OpenBLAS blas_thread_init: RLIMIT_NPROC -1 current, -1 max\n",
      "OpenBLAS blas_thread_init: pthread_create failed for thread 23 of 32: Resource temporarily unavailable\n",
      "OpenBLAS blas_thread_init: RLIMIT_NPROC -1 current, -1 max\n",
      "OpenBLAS blas_thread_init: pthread_create failed for thread 24 of 32: Resource temporarily unavailable\n",
      "OpenBLAS blas_thread_init: RLIMIT_NPROC -1 current, -1 max\n",
      "OpenBLAS blas_thread_init: pthread_create failed for thread 25 of 32: Resource temporarily unavailable\n",
      "OpenBLAS blas_thread_init: RLIMIT_NPROC -1 current, -1 max\n",
      "OpenBLAS blas_thread_init: pthread_create failed for thread 26 of 32: Resource temporarily unavailable\n",
      "OpenBLAS blas_thread_init: RLIMIT_NPROC -1 current, -1 max\n",
      "OpenBLAS blas_thread_init: pthread_create failed for thread 27 of 32: Resource temporarily unavailable\n",
      "OpenBLAS blas_thread_init: RLIMIT_NPROC -1 current, -1 max\n",
      "OpenBLAS blas_thread_init: pthread_create failed for thread 28 of 32: Resource temporarily unavailable\n",
      "OpenBLAS blas_thread_init: RLIMIT_NPROC -1 current, -1 max\n",
      "OpenBLAS blas_thread_init: pthread_create failed for thread 29 of 32: Resource temporarily unavailable\n",
      "OpenBLAS blas_thread_init: RLIMIT_NPROC -1 current, -1 max\n",
      "OpenBLAS blas_thread_init: pthread_create failed for thread 30 of 32: Resource temporarily unavailable\n",
      "OpenBLAS blas_thread_init: RLIMIT_NPROC -1 current, -1 max\n",
      "OpenBLAS blas_thread_init: pthread_create failed for thread 31 of 32: Resource temporarily unavailable\n",
      "OpenBLAS blas_thread_init: RLIMIT_NPROC -1 current, -1 max\n",
      "cannot allocate memory for thread-local data: ABORT\n",
      "OpenBLAS blas_thread_init: pthread_create failed for thread 16 of 32: Resource temporarily unavailable\n",
      "OpenBLAS blas_thread_init: RLIMIT_NPROC -1 current, -1 max\n",
      "OpenBLAS blas_thread_init: pthread_create failed for thread 17 of 32: Resource temporarily unavailable\n",
      "OpenBLAS blas_thread_init: RLIMIT_NPROC -1 current, -1 max\n",
      "OpenBLAS blas_thread_init: pthread_create failed for thread 18 of 32: Resource temporarily unavailable\n",
      "OpenBLAS blas_thread_init: RLIMIT_NPROC -1 current, -1 max\n",
      "OpenBLAS blas_thread_init: pthread_create failed for thread 19 of 32: Resource temporarily unavailable\n",
      "OpenBLAS blas_thread_init: RLIMIT_NPROC -1 current, -1 max\n",
      "OpenBLAS blas_thread_init: pthread_create failed for thread 20 of 32: Resource temporarily unavailable\n",
      "OpenBLAS blas_thread_init: RLIMIT_NPROC -1 current, -1 max\n",
      "OpenBLAS blas_thread_init: pthread_create failed for thread 21 of 32: Resource temporarily unavailable\n",
      "OpenBLAS blas_thread_init: RLIMIT_NPROC -1 current, -1 max\n",
      "OpenBLAS blas_thread_init: pthread_create failed for thread 22 of 32: Resource temporarily unavailable\n",
      "OpenBLAS blas_thread_init: RLIMIT_NPROC -1 current, -1 max\n",
      "OpenBLAS blas_thread_init: pthread_create failed for thread 23 of 32: Resource temporarily unavailable\n",
      "OpenBLAS blas_thread_init: RLIMIT_NPROC -1 current, -1 max\n",
      "OpenBLAS blas_thread_init: pthread_create failed for thread 24 of 32: Resource temporarily unavailable\n",
      "OpenBLAS blas_thread_init: RLIMIT_NPROC -1 current, -1 max\n",
      "OpenBLAS blas_thread_init: pthread_create failed for thread 25 of 32: Resource temporarily unavailable\n",
      "OpenBLAS blas_thread_init: RLIMIT_NPROC -1 current, -1 max\n",
      "OpenBLAS blas_thread_init: pthread_create failed for thread 26 of 32: Resource temporarily unavailable\n",
      "OpenBLAS blas_thread_init: RLIMIT_NPROC -1 current, -1 max\n",
      "OpenBLAS blas_thread_init: pthread_create failed for thread 27 of 32: Resource temporarily unavailable\n",
      "OpenBLAS blas_thread_init: RLIMIT_NPROC -1 current, -1 max\n",
      "OpenBLAS blas_thread_init: pthread_create failed for thread 28 of 32: Resource temporarily unavailable\n",
      "OpenBLAS blas_thread_init: RLIMIT_NPROC -1 current, -1 max\n",
      "OpenBLAS blas_thread_init: pthread_create failed for thread 29 of 32: Resource temporarily unavailable\n",
      "OpenBLAS blas_thread_init: RLIMIT_NPROC -1 current, -1 max\n",
      "OpenBLAS blas_thread_init: pthread_create failed for thread 30 of 32: Resource temporarily unavailable\n",
      "OpenBLAS blas_thread_init: RLIMIT_NPROC -1 current, -1 max\n",
      "OpenBLAS blas_thread_init: pthread_create failed for thread 31 of 32: Resource temporarily unavailable\n",
      "OpenBLAS blas_thread_init: RLIMIT_NPROC -1 current, -1 max\n"
     ]
    },
    {
     "data": {
      "text/plain": [
       "<autoPyTorch.api.tabular_classification.TabularClassificationTask at 0x7fc04ec5fca0>"
      ]
     },
     "execution_count": 7,
     "metadata": {},
     "output_type": "execute_result"
    }
   ],
   "source": [
    "# Search for an ensemble of machine learning algorithms\n",
    "api.search(\n",
    "    X_train=X_train,\n",
    "    y_train=y_train,\n",
    "    X_test=X_test,\n",
    "    y_test=y_test,\n",
    "    optimize_metric='accuracy',\n",
    "    total_walltime_limit=300,\n",
    "    func_eval_time_limit_secs=50\n",
    ")"
   ]
  },
  {
   "cell_type": "code",
   "execution_count": 8,
   "metadata": {},
   "outputs": [
    {
     "name": "stdout",
     "output_type": "stream",
     "text": [
      "Accuracy score {'accuracy': 0.9844444444444445}\n"
     ]
    }
   ],
   "source": [
    "# Calculate test accuracy\n",
    "y_pred = api.predict(X_test)\n",
    "score = api.score(y_pred, y_test)\n",
    "print(\"Accuracy score\", score)"
   ]
  },
  {
   "cell_type": "code",
   "execution_count": 9,
   "metadata": {},
   "outputs": [
    {
     "name": "stdout",
     "output_type": "stream",
     "text": [
      "|    | Preprocessing   | Estimator   |   Weight |\n",
      "|---:|:----------------|:------------|---------:|\n",
      "|  0 | None            | SVMLearner  |     0.96 |\n",
      "|  1 | None            | RFLearner   |     0.04 |\n"
     ]
    }
   ],
   "source": [
    "print(api.show_models())"
   ]
  },
  {
   "cell_type": "code",
   "execution_count": 10,
   "metadata": {},
   "outputs": [
    {
     "name": "stdout",
     "output_type": "stream",
     "text": [
      "autoPyTorch results:\n",
      "\tDataset name: 3e94edeb-dc28-11ef-a2a1-0242ac110002\n",
      "\tOptimisation Metric: accuracy\n",
      "\tBest validation score: 0.9842696629213483\n",
      "\tNumber of target algorithm runs: 22\n",
      "\tNumber of successful target algorithm runs: 3\n",
      "\tNumber of crashed target algorithm runs: 13\n",
      "\tNumber of target algorithms that exceeded the time limit: 5\n",
      "\tNumber of target algorithms that exceeded the memory limit: 1\n",
      "\n"
     ]
    }
   ],
   "source": [
    "print(api.sprint_statistics())"
   ]
  },
  {
   "cell_type": "code",
   "execution_count": null,
   "metadata": {},
   "outputs": [],
   "source": [
    "help(api)"
   ]
  },
  {
   "cell_type": "markdown",
   "metadata": {},
   "source": [
    "## Tentativa 2"
   ]
  },
  {
   "cell_type": "code",
   "execution_count": 3,
   "metadata": {},
   "outputs": [],
   "source": [
    "import os\n",
    "import tempfile as tmp\n",
    "import warnings\n",
    "\n",
    "from autoPyTorch.datasets.resampling_strategy import CrossValTypes\n",
    "\n",
    "os.environ['JOBLIB_TEMP_FOLDER'] = tmp.gettempdir()\n",
    "os.environ['OMP_NUM_THREADS'] = '1'\n",
    "os.environ['OPENBLAS_NUM_THREADS'] = '1'\n",
    "os.environ['MKL_NUM_THREADS'] = '1'\n",
    "\n",
    "warnings.simplefilter(action='ignore', category=UserWarning)\n",
    "warnings.simplefilter(action='ignore', category=FutureWarning)\n",
    "\n",
    "import sklearn.datasets\n",
    "import sklearn.model_selection\n",
    "\n",
    "from autoPyTorch.api.tabular_classification import TabularClassificationTask"
   ]
  },
  {
   "cell_type": "code",
   "execution_count": 4,
   "metadata": {},
   "outputs": [],
   "source": [
    "import pandas as pd\n",
    "from glob import glob"
   ]
  },
  {
   "cell_type": "code",
   "execution_count": 5,
   "metadata": {},
   "outputs": [],
   "source": [
    "pd.set_option('display.max_columns', None)"
   ]
  },
  {
   "cell_type": "code",
   "execution_count": 6,
   "metadata": {},
   "outputs": [],
   "source": [
    "csv_files = glob(\"../Data/data_Q4_2023/*/*csv\", recursive=True)\n",
    "# df = pd.concat([pd.read_csv(file) for file in csv_files], ignore_index=True)"
   ]
  },
  {
   "cell_type": "code",
   "execution_count": 7,
   "metadata": {},
   "outputs": [],
   "source": [
    "columns_to_drop = [\"date\", \"datacenter\", \"cluster_id\", \"vault_id\",\t\"pod_id\"]\n",
    "columns_to_set = [\"serial_number\"]"
   ]
  },
  {
   "cell_type": "code",
   "execution_count": 10,
   "metadata": {},
   "outputs": [],
   "source": [
    "df = pd.read_csv(csv_files[0])\n",
    "df = df.drop(columns=columns_to_drop)"
   ]
  },
  {
   "cell_type": "code",
   "execution_count": 11,
   "metadata": {},
   "outputs": [],
   "source": [
    "index_to_set_falure = list(range(10_000)) \n",
    "df.loc[index_to_set_falure, \"failure\"] = 1\n",
    "\n",
    "df = df.set_index(columns_to_set)\n"
   ]
  },
  {
   "cell_type": "code",
   "execution_count": 12,
   "metadata": {},
   "outputs": [],
   "source": [
    "X_train, X_test, y_train, y_test = sklearn.model_selection.train_test_split(\n",
    "    df.drop(columns=[\"failure\"]),\n",
    "    df[[\"failure\"]],\n",
    "    random_state=12_01_2001,\n",
    "    shuffle=True,\n",
    "    stratify=df[\"failure\"],\n",
    "    test_size=0.2\n",
    ")"
   ]
  },
  {
   "cell_type": "code",
   "execution_count": 13,
   "metadata": {},
   "outputs": [],
   "source": [
    "api = TabularClassificationTask(\n",
    "    # To maintain logs of the run, you can uncomment the\n",
    "    # Following lines\n",
    "    # temporary_directory='./tmp/autoPyTorch_example_tmp_01',\n",
    "    # output_directory='./tmp/autoPyTorch_example_out_01',\n",
    "    # delete_tmp_folder_after_terminate=False,\n",
    "    # delete_output_folder_after_terminate=False,\n",
    "    seed=42,\n",
    ")"
   ]
  },
  {
   "cell_type": "code",
   "execution_count": null,
   "metadata": {},
   "outputs": [],
   "source": [
    "type(y_train)#.toframe()"
   ]
  },
  {
   "cell_type": "code",
   "execution_count": null,
   "metadata": {},
   "outputs": [],
   "source": [
    "\n",
    "X_train.head()"
   ]
  },
  {
   "cell_type": "code",
   "execution_count": 96,
   "metadata": {},
   "outputs": [],
   "source": [
    "feat_types = []"
   ]
  },
  {
   "cell_type": "code",
   "execution_count": null,
   "metadata": {},
   "outputs": [],
   "source": [
    "api.search(\n",
    "    X_train=X_train,\n",
    "    y_train=y_train,\n",
    "    X_test=X_test.copy(),\n",
    "    y_test=y_test.copy(),\n",
    "    dataset_name='Trabalho_deep_learning',\n",
    "    optimize_metric='accuracy',\n",
    "    total_walltime_limit=300,\n",
    "    func_eval_time_limit_secs=50\n",
    ")\n",
    "# node.get_hyperparameter_search_space(dataset_properties, include=choices_list)"
   ]
  },
  {
   "cell_type": "code",
   "execution_count": 15,
   "metadata": {},
   "outputs": [],
   "source": [
    "# help(TabularClassificationTask)"
   ]
  }
 ],
 "metadata": {
  "kernelspec": {
   "display_name": "Python 3",
   "language": "python",
   "name": "python3"
  },
  "language_info": {
   "codemirror_mode": {
    "name": "ipython",
    "version": 3
   },
   "file_extension": ".py",
   "mimetype": "text/x-python",
   "name": "python",
   "nbconvert_exporter": "python",
   "pygments_lexer": "ipython3",
   "version": "3.8.10"
  }
 },
 "nbformat": 4,
 "nbformat_minor": 2
}
